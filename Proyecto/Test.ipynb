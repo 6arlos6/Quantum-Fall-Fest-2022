{
 "cells": [
  {
   "cell_type": "markdown",
   "id": "8c313b6b-c128-4060-b3e3-fab273227015",
   "metadata": {},
   "source": [
    "# Nombre del proyecto\n",
    "\n",
    "## Miembros\n",
    "\n",
    "Persona 1, Persona 2, Persona 3, Persona 4, Persona 5.\n",
    "\n",
    "## Descripción\n",
    "\n",
    "Lorem ipsum dolor sit amet, consectetur adipiscing elit, sed do eiusmod tempor incididunt ut labore et dolore magna aliqua. Ut enim ad minim veniam, quis nostrud exercitation ullamco laboris nisi ut aliquip ex ea commodo consequat. Duis aute irure dolor in reprehenderit in voluptate velit esse cillum dolore eu fugiat nulla pariatur. Excepteur sint occaecat cupidatat non proident, sunt in culpa qui officia deserunt mollit anim id est laborum."
   ]
  },
  {
   "cell_type": "code",
   "execution_count": 1,
   "id": "e46fde3d-047b-4d45-ae6f-ed08150fb2fc",
   "metadata": {},
   "outputs": [],
   "source": [
    "# Importamos las librerías y funciones necesarias\n",
    "\n",
    "import numpy as np\n",
    "from Functions import ImprimirMatriz, CapaHadamard"
   ]
  },
  {
   "cell_type": "code",
   "execution_count": 3,
   "id": "1755289f-f187-4999-ba76-2376f24c88cc",
   "metadata": {},
   "outputs": [
    {
     "data": {
      "text/latex": [
       "$\\displaystyle \\left[\\begin{matrix}1 & 3\\\\1 & 2\\end{matrix}\\right]$"
      ],
      "text/plain": [
       "Matrix([\n",
       "[1, 3],\n",
       "[1, 2]])"
      ]
     },
     "metadata": {},
     "output_type": "display_data"
    }
   ],
   "source": [
    "# Creamos una matrix y probamos nuestra función ImprimirMatriz\n",
    "\n",
    "M = np.array([[1,3],[1,2]])\n",
    "\n",
    "ImprimirMatriz(M)"
   ]
  },
  {
   "cell_type": "code",
   "execution_count": 4,
   "id": "237a5c47-3a2e-4628-8f66-bfdb64a0de17",
   "metadata": {},
   "outputs": [
    {
     "data": {
      "image/png": "[encoded data removed]",
      "text/plain": [
       "<Figure size 146.797x204.68 with 1 Axes>"
      ]
     },
     "execution_count": 4,
     "metadata": {},
     "output_type": "execute_result"
    }
   ],
   "source": [
    "# Pasamos ahora a una función que crea un circuito con toda una capa de compuertas Hadamard\n",
    "\n",
    "QC = CapaHadamard(n_qubits=3)\n",
    "QC.draw(\"mpl\")"
   ]
  }
 ],
 "metadata": {
  "kernelspec": {
   "display_name": "Python 3 (ipykernel)",
   "language": "python",
   "name": "python3"
  },
  "language_info": {
   "codemirror_mode": {
    "name": "ipython",
    "version": 3
   },
   "file_extension": ".py",
   "mimetype": "text/x-python",
   "name": "python",
   "nbconvert_exporter": "python",
   "pygments_lexer": "ipython3",
   "version": "3.9.7"
  }
 },
 "nbformat": 4,
 "nbformat_minor": 5
}
